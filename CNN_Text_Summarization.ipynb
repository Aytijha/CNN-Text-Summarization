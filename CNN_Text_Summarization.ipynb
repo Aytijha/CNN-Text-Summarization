{
  "nbformat": 4,
  "nbformat_minor": 0,
  "metadata": {
    "colab": {
      "provenance": [],
      "authorship_tag": "ABX9TyM+XTsaDcpL7yBOPElS8iCW",
      "include_colab_link": true
    },
    "kernelspec": {
      "name": "python3",
      "display_name": "Python 3"
    },
    "language_info": {
      "name": "python"
    }
  },
  "cells": [
    {
      "cell_type": "markdown",
      "metadata": {
        "id": "view-in-github",
        "colab_type": "text"
      },
      "source": [
        "<a href=\"https://colab.research.google.com/github/Aytijha/CNN-Text-Summarization/blob/main/CNN_Text_Summarization.ipynb\" target=\"_parent\"><img src=\"https://colab.research.google.com/assets/colab-badge.svg\" alt=\"Open In Colab\"/></a>"
      ]
    },
    {
      "cell_type": "code",
      "execution_count": null,
      "metadata": {
        "id": "kAQFphFkObuA"
      },
      "outputs": [],
      "source": [
        "## for data\n",
        "import datasets  #(1.13.3)\n",
        "import pandas as pd  #(0.25.1)\n",
        "import numpy  #(1.16.4)\n",
        "## for plotting\n",
        "import matplotlib.pyplot as plt  #(3.1.2)\n",
        "import seaborn as sns  #(0.9.0)\n",
        "## for preprocessing\n",
        "import re\n",
        "import nltk  #(3.4.5)\n",
        "import contractions  #(0.0.18)\n",
        "## for textrank\n",
        "import gensim  #(3.8.1)\n",
        "## for evaluation\n",
        "import rouge  #(1.0.0)\n",
        "import difflib\n",
        "## for seq2seq\n",
        "from tensorflow.keras import callbacks, models, layers, preprocessing as kprocessing #(2.6.0)\n",
        "## for bart\n",
        "import transformers  #(3.0.1)"
      ]
    }
  ]
}